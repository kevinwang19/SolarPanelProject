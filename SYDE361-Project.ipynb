{
 "cells": [
  {
   "cell_type": "code",
   "execution_count": 1,
   "id": "dcfc4d39-bb74-4265-a533-3ca98cf70662",
   "metadata": {
    "tags": []
   },
   "outputs": [
    {
     "name": "stdout",
     "output_type": "stream",
     "text": [
      "-89.70956662287676\n"
     ]
    }
   ],
   "source": [
    "%run sun.py\n",
    "\n",
    "import serial\n",
    "import time\n",
    "\n",
    "arduino = serial.Serial(port='COM4', baudrate=115200, timeout=.1)\n",
    "\n",
    "def R_opt(beta_ax, az_ax, el, az,limit=90):\n",
    "    beta_ax = np.radians(beta_ax)\n",
    "    az_ax = np.radians(az_ax)\n",
    "    \n",
    "    zen = np.radians(90 - el)\n",
    "    \n",
    "    azrad = np.radians(az)\n",
    "        \n",
    "    arg = np.sin(zen)*np.sin(azrad-az_ax)/ \\\n",
    "            (np.sin(zen)*np.cos(azrad-az_ax)*np.sin(beta_ax) \\\n",
    "             + np.cos(zen)*np.cos(beta_ax))\n",
    "    \n",
    "    phi = np.where((arg < 0) & ((azrad-az_ax) > 0) , 180, \n",
    "            np.where((arg > 0) & ((azrad-az_ax) < 0), -180,0))\n",
    "    \n",
    "    \n",
    "    R = np.degrees(np.arctan(arg)) + phi\n",
    "    \n",
    "    if R>90:\n",
    "        R = limit\n",
    "    if R<-90:\n",
    "        R = -limit\n",
    "    \n",
    "    return R\n",
    "\n",
    "def inc_SA(R, beta_ax, az_ax, el, az): \n",
    "    R = np.radians(R)\n",
    "    beta_ax = np.radians(beta_ax)\n",
    "    az_ax = np.radians(az_ax)\n",
    "    el = np.radians(90-el)\n",
    "    az = np.radians(az)\n",
    "    \n",
    "    arg = np.cos(R)*(np.sin(el)*np.cos(az-az_ax)*np.sin(beta_ax) \\\n",
    "                    +np.cos(el)*np.cos(beta_ax)) + \\\n",
    "                    np.sin(R)*np.sin(el)*np.sin(az-az_ax)\n",
    "    return np.degrees(np.arccos(arg))\n",
    "\n",
    "\n",
    "time_zone = 4\n",
    "year = 2023\n",
    "month = 1\n",
    "day = 1\n",
    "hr = 8 + time_zone\n",
    "mn = 9\n",
    "s = 15\n",
    "lat = 43.5\n",
    "long = -80.5\n",
    "\n",
    "pos = sunPosition(year,month,day,hr,mn,s,lat,long)\n",
    "\n",
    "beta_ax = 20\n",
    "az_ax = 180\n",
    "el = pos[1]\n",
    "az = pos[0]\n",
    "\n",
    "R = R_opt(beta_ax, az_ax, el, az,limit=90)\n",
    "\n",
    "#angle = inc_SA(R, beta_ax, az_ax, el, az)\n",
    "\n",
    "#print(angle)\n",
    "\n",
    "if R == 90 & hr < 5:\n",
    "    R = -90\n",
    "\n",
    "print(R)\n",
    "\n",
    "arduino.write(bytes(angle, 'utf-8'))\n",
    "time.sleep(0.05)\n"
   ]
  },
  {
   "cell_type": "code",
   "execution_count": null,
   "id": "ecec0e3a-1003-40a7-ab4e-e824f549d395",
   "metadata": {},
   "outputs": [],
   "source": []
  }
 ],
 "metadata": {
  "kernelspec": {
   "display_name": "Python 3 (ipykernel)",
   "language": "python",
   "name": "python3"
  },
  "language_info": {
   "codemirror_mode": {
    "name": "ipython",
    "version": 3
   },
   "file_extension": ".py",
   "mimetype": "text/x-python",
   "name": "python",
   "nbconvert_exporter": "python",
   "pygments_lexer": "ipython3",
   "version": "3.11.3"
  }
 },
 "nbformat": 4,
 "nbformat_minor": 5
}
