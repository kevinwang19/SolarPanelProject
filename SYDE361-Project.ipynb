{
 "cells": [
  {
   "cell_type": "code",
   "execution_count": 153,
   "id": "dcfc4d39-bb74-4265-a533-3ca98cf70662",
   "metadata": {
    "tags": []
   },
   "outputs": [
    {
     "name": "stdout",
     "output_type": "stream",
     "text": [
      "[-90, -90, -90, -90, -90, -90, -90, -90, -90, -90, -90, -90, -90, -90, -90, -90, -90, -90, -90, -90, -90, -90, -90, -90, -90, -90, -90, -90, -87.6633278353471, -84.2661106613641, -80.89733310920033, -77.55156563727671, -74.2236607898597, -70.908772185975, -67.60237065826973, -64.30025872351993, -60.99858421897897, -57.693853622290945, -54.38294528340668, -51.063122531748185, -47.73204637931164, -44.3877873216574, -41.028835547780254, -37.65410871315806, -34.2629563169917, -30.85515966487738, -27.430926402477485, -23.990878682941208, -20.53603418601884, -17.067779440263894, -13.587835203892537, -10.098214020377517, -6.60117045881347, -3.0991449477908497, 0.4052975174854311, 3.909532204971062, 7.410941201753367, 10.90697977605977, 14.395240637342287, 17.87351431941664, 21.339844152151954, 24.7925746118845, 28.230392219829643, 31.652358557800255, 35.057935359821776, 38.44700198877301, 41.81986589787404, 45.17726689462972, 48.520376163877806, 51.85079106807788, 55.17052673324636, 58.48200535685959, 61.788044050574136, 65.09184186552835, 68.39696644999962, 71.70734056452415, 75.02722843128566, 78.36122162384815, 81.71422390792914, 85.09143412121767, 88.49832582633016, 90, 90, 90, 90, 90, 90, 90, 90, 90, 90, 90]\n"
     ]
    }
   ],
   "source": [
    "%run sun.py\n",
    "\n",
    "def R_opt(beta_ax, az_ax, el, az,limit=90):\n",
    "    beta_ax = np.radians(beta_ax)\n",
    "    az_ax = np.radians(az_ax)\n",
    "    \n",
    "    zen = np.radians(90 - el)\n",
    "    \n",
    "    azrad = np.radians(az)\n",
    "        \n",
    "    arg = np.sin(zen)*np.sin(azrad-az_ax)/ \\\n",
    "            (np.sin(zen)*np.cos(azrad-az_ax)*np.sin(beta_ax) \\\n",
    "             + np.cos(zen)*np.cos(beta_ax))\n",
    "    \n",
    "    phi = np.where((arg < 0) & ((azrad-az_ax) > 0) , 180, \n",
    "            np.where((arg > 0) & ((azrad-az_ax) < 0), -180,0))\n",
    "    \n",
    "    \n",
    "    R = np.degrees(np.arctan(arg)) + phi\n",
    "    \n",
    "    if R>90:\n",
    "        R = limit\n",
    "    if R<-90:\n",
    "        R = -limit\n",
    "    \n",
    "    return R\n",
    "\n",
    "def inc_SA(R, beta_ax, az_ax, el, az): \n",
    "    R = np.radians(R)\n",
    "    beta_ax = np.radians(beta_ax)\n",
    "    az_ax = np.radians(az_ax)\n",
    "    el = np.radians(90-el)\n",
    "    az = np.radians(az)\n",
    "    \n",
    "    arg = np.cos(R)*(np.sin(el)*np.cos(az-az_ax)*np.sin(beta_ax) \\\n",
    "                    +np.cos(el)*np.cos(beta_ax)) + \\\n",
    "                    np.sin(R)*np.sin(el)*np.sin(az-az_ax)\n",
    "    return np.degrees(np.arccos(arg))\n",
    "\n",
    "\n",
    "\n",
    "def angle(hour,minute): \n",
    "    time_zone = 4\n",
    "    year = 2023\n",
    "    month = 7\n",
    "    day = 18\n",
    "    hr = hour\n",
    "    mn = minute\n",
    "    lat = 43.5\n",
    "    long = -80.5\n",
    "\n",
    "    pos = sunPosition(year,month,day,hr+time_zone,mn,0,lat,long)\n",
    "\n",
    "    beta_ax = 20\n",
    "    az_ax = 180\n",
    "    el = pos[1]\n",
    "    az = pos[0]\n",
    "\n",
    "    R = R_opt(beta_ax, az_ax, el, az,limit=90)\n",
    "\n",
    "    if R == 90 and hr < 4:\n",
    "        R = -90\n",
    "        \n",
    "    return R\n",
    "\n",
    "angles = []\n",
    "\n",
    "for hr in range(0, 24):\n",
    "    for mn in range(0, 60, 15):\n",
    "        angles.append(angle(hr,mn))\n",
    "    \n",
    "print(angles)"
   ]
  },
  {
   "cell_type": "code",
   "execution_count": null,
   "id": "f55756fe-6c26-4caa-83ec-84cc47b89274",
   "metadata": {},
   "outputs": [],
   "source": []
  }
 ],
 "metadata": {
  "kernelspec": {
   "display_name": "Python 3 (ipykernel)",
   "language": "python",
   "name": "python3"
  },
  "language_info": {
   "codemirror_mode": {
    "name": "ipython",
    "version": 3
   },
   "file_extension": ".py",
   "mimetype": "text/x-python",
   "name": "python",
   "nbconvert_exporter": "python",
   "pygments_lexer": "ipython3",
   "version": "3.11.3"
  }
 },
 "nbformat": 4,
 "nbformat_minor": 5
}
